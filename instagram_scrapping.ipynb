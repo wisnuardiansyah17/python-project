{
 "cells": [
  {
   "cell_type": "code",
   "execution_count": 2,
   "metadata": {},
   "outputs": [],
   "source": [
    "import selenium\n",
    "from selenium import webdriver\n",
    "from selenium.webdriver.common.by import By\n",
    "from selenium.webdriver.support.ui import WebDriverWait\n",
    "from selenium.webdriver.support import expected_conditions as EC\n",
    "import os\n",
    "from selenium.webdriver.common.keys import Keys\n",
    "from selem\n",
    "from selenium.common.exceptions import NoSuchElementException\n",
    "import pandas as pd"
   ]
  },
  {
   "cell_type": "code",
   "execution_count": 3,
   "metadata": {},
   "outputs": [
    {
     "name": "stderr",
     "output_type": "stream",
     "text": [
      "C:\\Users\\LENOVO\\AppData\\Local\\Temp\\ipykernel_13992\\1242611087.py:1: DeprecationWarning: executable_path has been deprecated, please pass in a Service object\n",
      "  driver = webdriver.Chrome('C:/Users/LENOVO/Documents/LATIHAN CODING/Chrome Driver For Selenium/chromedriver.exe')\n"
     ]
    }
   ],
   "source": [
    "driver = webdriver.Chrome('lokasi webdriver chromenya disimpan')\n",
    "driver.get('https://www.instagram.com/')"
   ]
  },
  {
   "cell_type": "code",
   "execution_count": null,
   "metadata": {},
   "outputs": [],
   "source": [
    "#masukan Username dan Password\n",
    "username = WebDriverWait(driver, 60).until(EC.element_to_be_clickable((By.CSS_SELECTOR, \"input[name='username']\")))\n",
    "password = WebDriverWait(driver, 60).until(EC.element_to_be_clickable((By.CSS_SELECTOR, \"input[name='password']\")))\n",
    "username.clear()\n",
    "password.clear()\n",
    "username.send_keys('tulis username disini')\n",
    "password.send_keys('tulis pasword disini')"
   ]
  },
  {
   "cell_type": "code",
   "execution_count": 5,
   "metadata": {},
   "outputs": [],
   "source": [
    "#Login Button\n",
    "log_in = WebDriverWait(driver, 60).until(EC.element_to_be_clickable((By.CSS_SELECTOR, \"button[type='submit']\"))).click()"
   ]
  },
  {
   "cell_type": "code",
   "execution_count": 6,
   "metadata": {},
   "outputs": [],
   "source": [
    "#dont save info login\n",
    "not_now = WebDriverWait(driver,60).until(EC.element_to_be_clickable((By.XPATH,\"//div[contains(text(),'Not Now')]\"))).click()"
   ]
  },
  {
   "cell_type": "code",
   "execution_count": 7,
   "metadata": {},
   "outputs": [],
   "source": [
    "#turnoff notification\n",
    "turn_off_notification = WebDriverWait(driver,60).until(EC.element_to_be_clickable((By.XPATH,\"//button[contains(text(),'Not Now')]\"))).click()"
   ]
  },
  {
   "cell_type": "code",
   "execution_count": 8,
   "metadata": {},
   "outputs": [],
   "source": [
    "#searchbar\n",
    "search_button = WebDriverWait(driver, 10).until(EC.element_to_be_clickable((By.CSS_SELECTOR, \"svg[aria-label='Search']\"))).click()\n",
    "searchbar = WebDriverWait(driver,10).until(EC.element_to_be_clickable((By.XPATH, \"//input[@placeholder='Search']\")))\n",
    "searchbar.clear()\n",
    "keywords = \"cari akun yang diinginkan untuk diambil datanya\"\n",
    "searchbar.send_keys(keywords)\n",
    "searchbar.send_keys(Keys.ENTER)\n",
    "#click hasil pencarian yang paling sesuai dengan keys\n",
    "hashtag_list_keywords = WebDriverWait(driver,10).until(EC.element_to_be_clickable((By.XPATH, \"//span[contains(text(), 'gunakan kata pada keyword')]\"))).click()"
   ]
  },
  {
   "cell_type": "code",
   "execution_count": 10,
   "metadata": {},
   "outputs": [],
   "source": [
    "#cari postingan instagram yang ditarger\n",
    "driver.execute_script(\"window.scrollTo(0, 4000)\")\n",
    "post = WebDriverWait(driver, 30).until(EC.element_to_be_clickable((By.XPATH,\"//a[@href='kode unik postingan']\")))\n",
    "post.click()"
   ]
  },
  {
   "cell_type": "code",
   "execution_count": null,
   "metadata": {},
   "outputs": [],
   "source": [
    "#click more sampai seluruh komentar terbuka\n",
    "try:\n",
    "    load_more_comments_button = WebDriverWait(driver, 10).until(EC.element_to_be_clickable((By.CSS_SELECTOR, \"svg[aria-label='Load more comments']\")))\n",
    "    while load_more_comments_button.is_displayed():\n",
    "        load_more_comments_button.click()\n",
    "        WebDriverWait(driver,10).until((EC.staleness_of(load_more_comments_button)))\n",
    "        load_more_comments_button = WebDriverWait(driver, 10).until(EC.element_to_be_clickable((By.CSS_SELECTOR, \"svg[aria-label='Load more comments']\")))\n",
    "except :\n",
    "    pass"
   ]
  },
  {
   "cell_type": "code",
   "execution_count": null,
   "metadata": {},
   "outputs": [],
   "source": [
    "#click view replies\n",
    "try :\n",
    "    reply_button = driver.find_elements(By.XPATH, \"//span[contains(text(), 'View replies')]\")\n",
    "    while True: \n",
    "        for reply in reply_button: \n",
    "            reply.click()\n",
    "            WebDriverWait(reply, 10).until(EC.element_to_be_clickable((By.XPATH, \"//span[contains(text(), 'View replies')]\")))\n",
    "except :\n",
    "    pass"
   ]
  },
  {
   "cell_type": "code",
   "execution_count": null,
   "metadata": {},
   "outputs": [],
   "source": [
    "username_followers = driver.find_elements(By.CLASS_NAME,'kode kelas untuk username')\n",
    "comments_followers = driver.find_elements(By.CLASS_NAME,'kode kelas untuk komentar')\n",
    "account_name=[]\n",
    "comment=[]\n",
    "for follower, comments in zip(username_followers,comments_followers):\n",
    "    account_name.append(follower.text)\n",
    "    comment.append(comments.text)\n",
    "\n",
    "data = {'username':account_name,'comments':comment}\n",
    "df = pd.DataFrame(data)\n",
    "df"
   ]
  },
  {
   "cell_type": "code",
   "execution_count": null,
   "metadata": {},
   "outputs": [],
   "source": [
    "df.drop(index=0,inplace=True)\n",
    "df.head(5)"
   ]
  },
  {
   "cell_type": "code",
   "execution_count": null,
   "metadata": {},
   "outputs": [],
   "source": [
    "df.to_excel('Nama_file_yang_diinginkan.xlsx', index=False)"
   ]
  }
 ],
 "metadata": {
  "kernelspec": {
   "display_name": "base",
   "language": "python",
   "name": "python3"
  },
  "language_info": {
   "codemirror_mode": {
    "name": "ipython",
    "version": 3
   },
   "file_extension": ".py",
   "mimetype": "text/x-python",
   "name": "python",
   "nbconvert_exporter": "python",
   "pygments_lexer": "ipython3",
   "version": "3.9.13"
  },
  "orig_nbformat": 4
 },
 "nbformat": 4,
 "nbformat_minor": 2
}
